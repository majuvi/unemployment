{
 "cells": [
  {
   "cell_type": "markdown",
   "metadata": {},
   "source": [
    "# Unemployment\n",
    "<i> Authors: Markus Viljanen </i>"
   ]
  },
  {
   "cell_type": "markdown",
   "metadata": {},
   "source": [
    "This notebook is a simple illustration of machine learning models that predict unemployment. Unemployment has been traditionally studied in two ways. First, macroeconometric labour market statistics provide an overview of the unemployment rate but do not consider how individuals experience different amounts of unemployment. Microeconometric studies have been performed to assess the impact of government policies and individual’s characteristics on unemployment, typically on the length of unemployment spells. Machine learning has become increasingly popular in many fields because it has enabled more accurate predictions. Unemployment therefore seems like a natural application of machine learning: there are well-formulated prediction tasks that require accurate answers. \n",
    "\n",
    "We fit models to a data set of unemployment histories, where the goal is to predict the following at different months:\n",
    "1. Who is at the highest risk of exiting unemployment?\n",
    "2. Who is at the highest risk of entering unemployment?\n",
    "3. Who is at the highest risk of being unemployed?\n",
    "\n",
    "The data set is based on a sample of the local unemployment registry, where practically all unemployed people are registered. The person identifiers in the data set are anonymized and the persons are described by a set of generic features. The resulting  predictions are based on two information sources about the person: features and their past unemployment history. The model is able to learn the effect of 'missing features', such as features we did not include or different motivations in finding a job, by observing how the persons have been unemployed in the past.\n",
    "\n",
    "This notebook is a more 'hacky' version of our paper, since it aims to illustrate a simpler version of the model without giving too much attention to the mathematical details. The paper also implemented statistical models in R."
   ]
  },
  {
   "cell_type": "markdown",
   "metadata": {},
   "source": [
    "## Imports"
   ]
  },
  {
   "cell_type": "code",
   "execution_count": 1,
   "metadata": {},
   "outputs": [],
   "source": [
    "import numpy as np\n",
    "import pandas as pd\n",
    "import matplotlib.pyplot as plt"
   ]
  },
  {
   "cell_type": "code",
   "execution_count": 2,
   "metadata": {},
   "outputs": [],
   "source": [
    "from collections import OrderedDict\n",
    "from sklearn import preprocessing, metrics\n",
    "from sklearn.linear_model import LogisticRegression, LogisticRegressionCV, Ridge, RidgeCV"
   ]
  },
  {
   "cell_type": "markdown",
   "metadata": {},
   "source": [
    "## Load Data"
   ]
  },
  {
   "cell_type": "markdown",
   "metadata": {},
   "source": [
    "> Unfortunately our research permission to the unemployment registry does not allow to share the data set"
   ]
  },
  {
   "cell_type": "markdown",
   "metadata": {},
   "source": [
    "First we load a data set. Each sample is identified by the anonymized person identifier (henkilotunnus), time identifier (vvvvkk), and binary unemployment status (unemployed = 0/1 and other = 0/1). There are five different time-varying categorical features at each time point: \n",
    "1. Gender (supukoodi)\n",
    "2. Work Experience (tyokokemuskoodi)\n",
    "3. Age (ika)\n",
    "4. Level of Education (koulutusastekoodi_2)\n",
    "5. Field of Education (koulutusalakoodi_1)\n",
    "\n",
    "The data also has a more elaborate unemployment status (voimolevatyollkoodi) that we use to visualize the data."
   ]
  },
  {
   "cell_type": "code",
   "execution_count": 3,
   "metadata": {},
   "outputs": [],
   "source": [
    "# Read dat set\n",
    "fr = pd.read_csv('data.csv', encoding='utf-8', sep=';',\n",
    "                 usecols = ['henkilotunnus', 'supukoodi','tyokokemuskoodi','ika','koulutusastekoodi_2','koulutusalakoodi_1',\n",
    "                           'vvvvkk', 'voimolevatyollkoodi','unemployed','other','unemployed_prev','other_prev'],\n",
    "                 dtype={'henkilotunnus': int,\n",
    "                        'supukoodi': str,\n",
    "                        'tyokokemuskoodi': str,\n",
    "                        'ika': int,\n",
    "                        'koulutusastekoodi_2': str,\n",
    "                        'koulutusalakoodi_1': str,\n",
    "                        'vvvvkk': str, \n",
    "                        'voimolevatyollkoodi': str,\n",
    "                        'unemployed': int, 'other':int, \n",
    "                        'unemployed_prev':int, 'other_prev':int})\n"
   ]
  },
  {
   "cell_type": "markdown",
   "metadata": {},
   "source": [
    "We take a random sample of 20 000 unemployed persons, where they are divided into train and test sets as follows:\n",
    "1. 10 000 persons are divided into training and test set, such that years 2013-2016 belong to training set and 2017 to test set.\n",
    "2. 10 000 persons are divided into a cold start test set such that the model does not have any observations of these persons in years 2013-2017.\n",
    "\n",
    "This allocates the persons to the three data sets (Training, Test, Cold Test)"
   ]
  },
  {
   "cell_type": "code",
   "execution_count": 4,
   "metadata": {},
   "outputs": [],
   "source": [
    "# Define train and test period\n",
    "vvvvkk_test = ['2017-01-01','2017-02-01','2017-03-01','2017-04-01','2017-05-01','2017-06-01',\n",
    "               '2017-07-01','2017-08-01', '2017-09-01','2017-10-01','2017-11-01','2017-12-01']\n",
    "vvvvkk_train = list(set(fr['vvvvkk']).difference(vvvvkk_test))"
   ]
  },
  {
   "cell_type": "code",
   "execution_count": 5,
   "metadata": {},
   "outputs": [],
   "source": [
    "# Take random 20 000 persons who have been unemployed during the train period (10 000 test, 10 000 cold start)\n",
    "ids = fr.loc[fr['vvvvkk'].isin(vvvvkk_train) & (fr['unemployed'] == 1), 'henkilotunnus'].unique()\n",
    "ids_both = np.random.choice(list(ids), 20000, replace=False)\n",
    "ids_cold = np.random.choice(ids_both, 10000, replace=False)\n",
    "fr = fr[fr['henkilotunnus'].isin(ids_both)].copy()"
   ]
  },
  {
   "cell_type": "markdown",
   "metadata": {},
   "source": [
    "There can be slightly less persons in the future test set because unemployed individuals become censored after they reach age 65:"
   ]
  },
  {
   "cell_type": "code",
   "execution_count": 6,
   "metadata": {},
   "outputs": [
    {
     "data": {
      "text/plain": [
       "dataset\n",
       "Cold     10000\n",
       "Test      9712\n",
       "Train    10000\n",
       "Name: henkilotunnus, dtype: int32"
      ]
     },
     "execution_count": 6,
     "metadata": {},
     "output_type": "execute_result"
    }
   ],
   "source": [
    "# Build train set, test set and cold start test set\n",
    "test_time = fr['vvvvkk'].isin(vvvvkk_test)\n",
    "test_ids = fr['henkilotunnus'].isin(ids_cold)\n",
    "\n",
    "train = ~test_time & ~test_ids\n",
    "test =  test_time & ~test_ids\n",
    "cold =  test_ids\n",
    "\n",
    "fr['dataset'] = ''\n",
    "fr.loc[train, 'dataset'] = 'Train'\n",
    "fr.loc[test, 'dataset'] = 'Test'\n",
    "fr.loc[cold, 'dataset'] = 'Cold'\n",
    "\n",
    "fr.groupby('dataset')['henkilotunnus'].agg(lambda s: s.unique().size)"
   ]
  },
  {
   "cell_type": "markdown",
   "metadata": {},
   "source": [
    "## Visualize data "
   ]
  },
  {
   "cell_type": "markdown",
   "metadata": {},
   "source": [
    "We visualize the data set to get an idea of how it looks like and explain what exactly we try to predict."
   ]
  },
  {
   "cell_type": "code",
   "execution_count": 7,
   "metadata": {},
   "outputs": [],
   "source": [
    "from visualize import plot_timelines"
   ]
  },
  {
   "cell_type": "markdown",
   "metadata": {},
   "source": [
    "The following visualization plots the Person x Time observations of unemployment status in the original data set. There can be more states than unemployed (red) and not unemployed (green), for example on 'work placement' (aqua), 'outside of workforce' (blue), 'laid off' (yellow), 'shortened workweek' (orange), etc. "
   ]
  },
  {
   "cell_type": "code",
   "execution_count": 8,
   "metadata": {},
   "outputs": [
    {
     "name": "stdout",
     "output_type": "stream",
     "text": [
      "Specs: 100 x 57 / 60\n"
     ]
    },
    {
     "data": {
      "text/plain": [
       "<matplotlib.image.AxesImage at 0x2b1db28b128>"
      ]
     },
     "execution_count": 8,
     "metadata": {},
     "output_type": "execute_result"
    },
    {
     "data": {
      "image/png": "[encoded data removed]",
      "text/plain": [
       "<Figure size 432x288 with 1 Axes>"
      ]
     },
     "metadata": {
      "needs_background": "light"
     },
     "output_type": "display_data"
    }
   ],
   "source": [
    "# Downsample if requested\n",
    "# Original 'voimolevatyollkoodi' status\n",
    "ids = np.random.choice(fr['henkilotunnus'].unique(), size=100, replace=False)\n",
    "arr = plot_timelines(fr[fr['henkilotunnus'].isin(ids)], colors= {\n",
    "        '00': (0  , 128, 128), # D.AQUA : Työllistetty\n",
    "        '01': (0  , 255, 0  ), # GREEN  : Työssä yleisillä työmarkk.\n",
    "        '02': (255, 0  , 0  ), # RED    : Työtön\n",
    "        '03': (255, 153, 0  ), # ORANGE : Lomautettu\n",
    "        '04': (255, 255, 0  ), # YELLOW : Lyhennetyllä työvkolla\n",
    "        '05': (0  , 0  , 255), # BLUE   : Työvoiman ulkopuolella\n",
    "        '06': (255, 0  , 255), # PINK   : Työttömyyseläkkeellä\n",
    "        '07': (0  , 255, 255), # AQUA   : Työllistym. ed. palvelussa\n",
    "        '08': (0  , 0  , 128), # D.BLUE : Koulutuksessa\n",
    "        '09': (0  , 128, 0  ), # D.GREEN: Ei havaintoa (Töissä / Työmarkkinoiden ulkopuolella)\n",
    "        '10': (255, 255, 255), # WHITE  : Ei havaittavissa (Sensuroitu)\n",
    "    })\n",
    "\n",
    "plt.imshow(arr[:,:,:], interpolation='none')\n"
   ]
  },
  {
   "cell_type": "markdown",
   "metadata": {},
   "source": [
    "For the purposes of the study, we described the Person x Time observations as binary unemployed / not unemployed states:"
   ]
  },
  {
   "cell_type": "code",
   "execution_count": 9,
   "metadata": {},
   "outputs": [
    {
     "name": "stdout",
     "output_type": "stream",
     "text": [
      "Specs: 100 x 57 / 60\n"
     ]
    },
    {
     "data": {
      "text/plain": [
       "<matplotlib.image.AxesImage at 0x2b180c35cf8>"
      ]
     },
     "execution_count": 9,
     "metadata": {},
     "output_type": "execute_result"
    },
    {
     "data": {
      "image/png": "[encoded data removed]",
      "text/plain": [
       "<Figure size 432x288 with 1 Axes>"
      ]
     },
     "metadata": {
      "needs_background": "light"
     },
     "output_type": "display_data"
    }
   ],
   "source": [
    "\n",
    "# Binary 'voimolevatyollkoodi' transitions\n",
    "df = fr[['henkilotunnus', 'vvvvkk', 'voimolevatyollkoodi']].copy()\n",
    "observable_prev = ((fr['unemployed_prev'] == 1) | (fr['other_prev'] == 1))\n",
    "df.loc[~observable_prev, 'voimolevatyollkoodi'] = '09'\n",
    "df.loc[observable_prev & fr['unemployed_prev'] & fr['unemployed'], 'voimolevatyollkoodi'] = '00'\n",
    "df.loc[observable_prev & fr['unemployed_prev'] & fr['other'], 'voimolevatyollkoodi'] = '01'\n",
    "df.loc[observable_prev & fr['other_prev'] & fr['other'], 'voimolevatyollkoodi'] = '02'\n",
    "df.loc[observable_prev & fr['other_prev'] & fr['unemployed'], 'voimolevatyollkoodi'] = '03'\n",
    "arr = plot_timelines(df[fr['henkilotunnus'].isin(ids)], colors= {\n",
    "        '00': (128, 0  , 0  ), # D. RED    : Seuraava: Työtön\n",
    "        '01': (255, 0  , 0  ), # RED  : Seuraava: Muu\n",
    "        '02': (0  , 128, 0  ), # D. GREEN  : Seuraava: Muu\n",
    "        '03': (0  , 255, 0  ), # GREEN    : Seuraava: Työtön\n",
    "        '09': (128, 128, 128), # GREY   : Ei relevantti\n",
    "        '10': (255, 255, 255), # WHITE  : Ei havaittavissa (Sensuroitu)\n",
    "    })\n",
    "\n",
    "plt.imshow(arr[:,:,:], interpolation=None)\n"
   ]
  },
  {
   "cell_type": "markdown",
   "metadata": {},
   "source": [
    "## Model description"
   ]
  },
  {
   "cell_type": "markdown",
   "metadata": {},
   "source": [
    "### General models"
   ]
  },
  {
   "cell_type": "markdown",
   "metadata": {},
   "source": [
    "This visualization shows the prediction goals of the models. Consider splitting the data set into two parts 'Exit' and 'Entry'.  The 'Exit' is a binary indicator of whether an unemployed person exits unemployment that month and the 'Entry' is a binary indicator of whether a non-unemployed person enters unemployment that month. The 'Status' is simply the binary indicator of whether the person was unemploed at the end of that month:"
   ]
  },
  {
   "cell_type": "markdown",
   "metadata": {},
   "source": [
    "<img src=\"transitions.png\" alt=\"Model explanation vis data set\" title=\"\" width=\"650px\"/>"
   ]
  },
  {
   "cell_type": "markdown",
   "metadata": {},
   "source": [
    "Denote the unemployment status of individual $i$ at time $t$ as $x_{i,t}\\in\\{0,1\\}$. Mathematically, we can consider the unemployment status as a realization of a random variable $X_{i,t}∈\\{0,1\\}$ in a stochastic process $\\{X_{i,t},t \\geq 0\\}$. The probabilities of this stochastic process are things we are interested to predict.\n",
    "\n",
    "Now, we define three models that predict the following quantities each month:\n",
    "1. 'Status' is the probability of being unemployed: $s_{i,t}=P(X_{i,t}=1) $.\n",
    "2. 'Exit' is the probability of exiting unemployment: $q_{i,t}=P(X_{i,t}=0|X_{i,t-1}=1) $.\n",
    "3. 'Entry' is the probability of entering unemployment: $p_{i,t}=P(X_{i,t}=1|X_{i,t-1}=0) $.\n",
    "\n"
   ]
  },
  {
   "cell_type": "markdown",
   "metadata": {},
   "source": [
    "The 'Status' model is fitted to the 'Transitions' data, where we directly predict the unemployment status. The 'Exit' model is fitted to the above 'Exit' data, where we predict the unemployment exits among individuals who were unemployed last month. The 'Entry' model is fitted to the above 'Entry' data, where we predict the unemployment entry among individuals who were not unemployed last month.\n",
    "\n",
    "In fact, given a certain interesting hypothesis the 'Entry' and 'Exit' do not just predict these events but describe the entire data set..."
   ]
  },
  {
   "cell_type": "markdown",
   "metadata": {},
   "source": [
    "### Markov Chain assumption"
   ]
  },
  {
   "cell_type": "markdown",
   "metadata": {},
   "source": [
    "Define the 'state probability vector' as the probability of being non-unemployed or unemployed at a given time:\n",
    "$$\\overline{s}_{i,t}=(P(X_{i,t}=0), P(X_{i,t}=1))$$\n",
    "\n",
    "Define the 'transition probability matrix' as the probability of moving in or out of unemployment over time given the last known state:\n",
    "$$T_{i,u \\rightarrow t}=\n",
    "  \\left[ {\\begin{array}{cc}\n",
    "   P(X_{i,t}=0|X_{i,u}=0) & P(X_{i,t}=1|X_{i,u}=0) \\\\\n",
    "   P(X_{i,t}=0|X_{i,u}=1) & P(X_{i,t}=1|X_{i,u}=1) \\\\\n",
    "  \\end{array} } \\right]\n",
    "$$\n",
    "\n",
    "The future unemployment probabilities are predicted by a product of the state vector and transition matrix:\n",
    "$$\\overline{s}_{i,t}=\\overline{s}_{i,u}T_{i,u \\rightarrow t}$$\n",
    "\n",
    "Here is an interesting hypothesis: is the stochastic process a Markov Chain? (discrete-time inhomogeneous Markov Chain with heterogeneous transition rates)\n",
    "\n",
    "Briefly, this idea means that each individual has a monthly probability of 'exiting unemployment' and a monthly probability of 'entering unemployment'. Then each month, if they are unemployed the outcome of exiting unemployment is a coin flip (Bernoulli trial) according to the first probability, and if they are not unemployed the outcome of entering unemployment is a coin flip according to the second probability. This is illustrated nicely in the previous figure. In fact, then the probability of each invidiual unemployment sequence can be described as a simple product of these probabilities:\n",
    "$$P(\\{X_{i,t},t \\geq 0\\})\n",
    "=P(X_{i,t},X_{i,t-1},…,X_{i,0} )\n",
    "=P(X_{i,t} |X_{i,t-1} )P(X_{i,t-1} |X_{i,t-2} )…P(X_{i,1} |X_{i,0} )P(X_{i,0} )$$"
   ]
  },
  {
   "cell_type": "markdown",
   "metadata": {},
   "source": [
    "Now, define the following one-step transition probability matrix given the previous probabilities:"
   ]
  },
  {
   "cell_type": "markdown",
   "metadata": {},
   "source": [
    "$$T_{i,t}=\n",
    "  \\left[ {\\begin{array}{cc}\n",
    "   1-p_{i,t} & p_{i,t} \\\\\n",
    "   q_{i,t} & 1-q_{i,t} \\\\\n",
    "  \\end{array} } \\right]\n",
    "$$\n"
   ]
  },
  {
   "cell_type": "markdown",
   "metadata": {},
   "source": [
    "In a Markov Chain, the transition probability matrix is a product of one-step transition matrices:\n",
    "$$ T_{i,u \\rightarrow t} \\prod_{j=s+1}^{t} T_{i,j} $$\n",
    "\n",
    "The future state can then be predicted by repeatedly multiplying the initial state probabilities with these matrices:\n",
    "$$ \\overline{s}_{i,t} = \\overline{s}_{i,u}T_{i,u + 1}T_{i,u + 2}...T_{i,t}$$\n",
    "\n",
    "Here is a very interesting result of Markov Chains. If the transition probabilities are constant, say $q_{i,t}=q_i$ and $p_{i,t}=p_i$, regardless of the initial state the process converges over time to the 'steady state' probabilities:\n",
    "$$ \\text{lim}_{t\\rightarrow\\infty}\\overline{s}_{i,t} = \n",
    "  \\left[ {\\begin{array}{cc}\n",
    "   \\frac{q_i}{q_i+p_i} & \\frac{p_i}{q_i+p_i}\\\\\n",
    "  \\end{array} } \\right]$$\n",
    "\n",
    "This means that if we do not have any previous observations, it makes sense to use the steady state probabilities as the initial state $ \\overline{s}_{i,0} = \\overline{s}_{i,\\infty}$. Furthermore this implies that over time, every individual is predicted to spend this proportion of their working life in unemployment. "
   ]
  },
  {
   "cell_type": "markdown",
   "metadata": {},
   "source": [
    "It is a valid question to ask whether the 'Markov chain' assumption is realistic, i.e. if the persons can really be described as a stochastic process given the unemployment exit and entry probabilities. Lets generate some data from Markov Chains and see how they look like. Lets say for example that the probabilities are both Beta-distributed, which we specify with some realistic values for the mean and variance. First, we sample the person-specific exit and entry probabilities and then generate their unemployment history by simulating the unemployment status as a Markov Chain with these transition probabilities. "
   ]
  },
  {
   "cell_type": "code",
   "execution_count": 10,
   "metadata": {},
   "outputs": [],
   "source": [
    "from simulation import Beta, sample_data, plot_data_states, plot_rates\n",
    "\n",
    "# Entry and exit rates as Beta(mean, var) distributed\n",
    "mean_p, var_p = 0.0125, 0.02**2\n",
    "mean_q, var_q = 0.07, 0.02**2\n",
    "P = Beta(mean_p, var_p)\n",
    "Q = Beta(mean_q, var_q)\n",
    "\n",
    "# Generate a heterogeneous data set given samples (N), time (T)\n",
    "N, T = 100, 120\n",
    "data, rates = sample_data(N, T, P, Q)"
   ]
  },
  {
   "cell_type": "markdown",
   "metadata": {},
   "source": [
    "The resulting data set has the same format as our data set:"
   ]
  },
  {
   "cell_type": "code",
   "execution_count": 11,
   "metadata": {},
   "outputs": [
    {
     "data": {
      "text/html": [
       "<div>\n",
       "<style scoped>\n",
       "    .dataframe tbody tr th:only-of-type {\n",
       "        vertical-align: middle;\n",
       "    }\n",
       "\n",
       "    .dataframe tbody tr th {\n",
       "        vertical-align: top;\n",
       "    }\n",
       "\n",
       "    .dataframe thead th {\n",
       "        text-align: right;\n",
       "    }\n",
       "</style>\n",
       "<table border=\"1\" class=\"dataframe\">\n",
       "  <thead>\n",
       "    <tr style=\"text-align: right;\">\n",
       "      <th></th>\n",
       "      <th>sample</th>\n",
       "      <th>time</th>\n",
       "      <th>unemployed</th>\n",
       "    </tr>\n",
       "  </thead>\n",
       "  <tbody>\n",
       "    <tr>\n",
       "      <th>0</th>\n",
       "      <td>0</td>\n",
       "      <td>0</td>\n",
       "      <td>0</td>\n",
       "    </tr>\n",
       "    <tr>\n",
       "      <th>1</th>\n",
       "      <td>0</td>\n",
       "      <td>1</td>\n",
       "      <td>0</td>\n",
       "    </tr>\n",
       "    <tr>\n",
       "      <th>2</th>\n",
       "      <td>0</td>\n",
       "      <td>2</td>\n",
       "      <td>0</td>\n",
       "    </tr>\n",
       "    <tr>\n",
       "      <th>3</th>\n",
       "      <td>0</td>\n",
       "      <td>3</td>\n",
       "      <td>0</td>\n",
       "    </tr>\n",
       "    <tr>\n",
       "      <th>4</th>\n",
       "      <td>0</td>\n",
       "      <td>4</td>\n",
       "      <td>0</td>\n",
       "    </tr>\n",
       "  </tbody>\n",
       "</table>\n",
       "</div>"
      ],
      "text/plain": [
       "   sample  time  unemployed\n",
       "0       0     0           0\n",
       "1       0     1           0\n",
       "2       0     2           0\n",
       "3       0     3           0\n",
       "4       0     4           0"
      ]
     },
     "execution_count": 11,
     "metadata": {},
     "output_type": "execute_result"
    }
   ],
   "source": [
    "data[['sample', 'time', 'unemployed']].head()"
   ]
  },
  {
   "cell_type": "markdown",
   "metadata": {},
   "source": [
    "The resulting data set looks a lot like real unemployment data:"
   ]
  },
  {
   "cell_type": "code",
   "execution_count": 12,
   "metadata": {},
   "outputs": [
    {
     "data": {
      "image/png": "[encoded data removed]",
      "text/plain": [
       "<Figure size 432x288 with 4 Axes>"
      ]
     },
     "metadata": {
      "needs_background": "light"
     },
     "output_type": "display_data"
    }
   ],
   "source": [
    "plot_data_states(data)\n",
    "#plot_rates(P, Q, rates['entry'], rates['exit'])"
   ]
  },
  {
   "cell_type": "markdown",
   "metadata": {},
   "source": [
    "The bottom panel visualizes the 'unemployment rate', which is defined as the percentage of individuals unemployed each month. This typically reported in the news and various reports when people are interested about unemployment. However, the right panel visualizes a type of 'individual unemployment rate', which is the proportion of time the person was unemployed. The steady state probabilities imply that over time (as the follow-up is longer and longer) this converges to a given number, which means that each individual can be predicted to have a certain lifetime occurance of unemployment. Very cool!"
   ]
  },
  {
   "cell_type": "markdown",
   "metadata": {},
   "source": [
    "## Process data set"
   ]
  },
  {
   "cell_type": "markdown",
   "metadata": {},
   "source": [
    "The anonymized person identifier has a different number of observations for each individual. It is possible to have a maximum of 57 observations unless the person is censored at some time points because they were under 18 or over 65:"
   ]
  },
  {
   "cell_type": "code",
   "execution_count": 13,
   "metadata": {},
   "outputs": [
    {
     "data": {
      "text/plain": [
       "20470    57\n",
       "6505     57\n",
       "12655    57\n",
       "59764    57\n",
       "47486    57\n",
       "Name: henkilotunnus, dtype: int64"
      ]
     },
     "execution_count": 13,
     "metadata": {},
     "output_type": "execute_result"
    }
   ],
   "source": [
    "fr['henkilotunnus'].value_counts().head()"
   ]
  },
  {
   "cell_type": "markdown",
   "metadata": {},
   "source": [
    "The time identifier is the time point when the registry was sampled:"
   ]
  },
  {
   "cell_type": "code",
   "execution_count": 14,
   "metadata": {},
   "outputs": [
    {
     "data": {
      "text/plain": [
       "2013-01-01    18573\n",
       "2013-02-01    18627\n",
       "2013-03-01    18679\n",
       "2013-04-01    18727\n",
       "2013-05-01    18770\n",
       "Name: vvvvkk, dtype: int64"
      ]
     },
     "execution_count": 14,
     "metadata": {},
     "output_type": "execute_result"
    }
   ],
   "source": [
    "#fr['vvvvkk'] = pd.Categorical(fr['vvvvkk'])\n",
    "fr['vvvvkk'] = pd.to_datetime(fr['vvvvkk'])\n",
    "fr['vvvvkk'].value_counts().sort_index().head()"
   ]
  },
  {
   "cell_type": "markdown",
   "metadata": {},
   "source": [
    "The age describes the person's age in categorical 5 year buckets:"
   ]
  },
  {
   "cell_type": "code",
   "execution_count": 15,
   "metadata": {},
   "outputs": [
    {
     "data": {
      "text/plain": [
       "[18, 20)     47569\n",
       "[20, 25)    169007\n",
       "[25, 30)    149407\n",
       "[30, 35)    135869\n",
       "[35, 40)    117712\n",
       "[40, 45)    101663\n",
       "[45, 50)    102406\n",
       "[50, 55)     98336\n",
       "[55, 60)     95771\n",
       "[60, 65)     84401\n",
       "Name: ika, dtype: int64"
      ]
     },
     "execution_count": 15,
     "metadata": {},
     "output_type": "execute_result"
    }
   ],
   "source": [
    "# Assign age to 5 year buckets\n",
    "fr['ika'] = pd.cut(fr['ika'], bins=[18,20,25,30,35,40,45,50,55,60,65], right=False, include_lowest=True)\n",
    "fr['ika'] = pd.Categorical(fr['ika'].astype(str), categories=['%s' % c for c in fr['ika'].cat.categories])\n",
    "fr['ika'].value_counts().sort_index()"
   ]
  },
  {
   "cell_type": "markdown",
   "metadata": {},
   "source": [
    "The other features are described as codes in the data set, so we load and attach the human readable descriptions (in finnish) from a file:"
   ]
  },
  {
   "cell_type": "code",
   "execution_count": 16,
   "metadata": {},
   "outputs": [],
   "source": [
    "# Read labels corresponding to codes and print value counts\n",
    "fr_code = pd.read_csv('data_koodit.csv', encoding='utf-8', sep=';')\n",
    "for key, tfr in fr_code.groupby('column'):\n",
    "    ts = tfr.set_index('key')['value']\n",
    "    if key in fr:\n",
    "        fr[key] = pd.Categorical(fr[key].map(ts), categories=pd.unique(ts))"
   ]
  },
  {
   "cell_type": "markdown",
   "metadata": {},
   "source": [
    "Then translate them into english:"
   ]
  },
  {
   "cell_type": "code",
   "execution_count": 17,
   "metadata": {},
   "outputs": [],
   "source": [
    "fr.rename(columns = {'supukoodi':'Gender', 'tyokokemuskoodi': 'Work experience', 'ika': 'Age', \n",
    "                     'koulutusastekoodi_2': 'Level of education', 'koulutusalakoodi_1': 'Field of education'}, inplace=True)"
   ]
  },
  {
   "cell_type": "markdown",
   "metadata": {},
   "source": [
    "Gender is a categorical variable:"
   ]
  },
  {
   "cell_type": "code",
   "execution_count": 18,
   "metadata": {},
   "outputs": [
    {
     "data": {
      "text/plain": [
       "Male      584258\n",
       "Female    517883\n",
       "Name: Gender, dtype: int64"
      ]
     },
     "execution_count": 18,
     "metadata": {},
     "output_type": "execute_result"
    }
   ],
   "source": [
    "fr['Gender'] = fr['Gender'].map({'Mies':'Male', 'Nainen':'Female'})\n",
    "fr['Gender'].value_counts().sort_index()"
   ]
  },
  {
   "cell_type": "markdown",
   "metadata": {},
   "source": [
    "Work experience is a categorical variable:"
   ]
  },
  {
   "cell_type": "code",
   "execution_count": 19,
   "metadata": {},
   "outputs": [
    {
     "data": {
      "text/plain": [
       "None          356959\n",
       "Little        312812\n",
       "Sufficient    432370\n",
       "Name: Work experience, dtype: int64"
      ]
     },
     "execution_count": 19,
     "metadata": {},
     "output_type": "execute_result"
    }
   ],
   "source": [
    "fr['Work experience'] = fr['Work experience'].map({'ei työkokemusta': 'None', 'vähän työkokemusta': 'Little',\n",
    "                                                   'riittävästi työkokemusta': 'Sufficient'})\n",
    "fr['Work experience'].value_counts().sort_index()"
   ]
  },
  {
   "cell_type": "markdown",
   "metadata": {},
   "source": [
    "Level of education is a categorical variable:"
   ]
  },
  {
   "cell_type": "code",
   "execution_count": 20,
   "metadata": {},
   "outputs": [
    {
     "data": {
      "text/plain": [
       "Bachelors (Applied Sciences)     65068\n",
       "Bachelors (University)           26806\n",
       "Basic Education 1-6              47243\n",
       "Basic Education 7-9             179516\n",
       "Doctorate (University)            4869\n",
       "Early education                   1021\n",
       "Gymnasium                       115372\n",
       "Licensiate                        1390\n",
       "Masters (Applied Sciences)        4302\n",
       "Masters (University)             77995\n",
       "Medical Specialization             570\n",
       "Unknown                          37221\n",
       "Vocational                       55565\n",
       "Vocational (depreceated)         72287\n",
       "Vocational Basic                397034\n",
       "Vocational higher                15882\n",
       "Name: Level of education, dtype: int64"
      ]
     },
     "execution_count": 20,
     "metadata": {},
     "output_type": "execute_result"
    }
   ],
   "source": [
    "fr['Level of education'] = fr['Level of education'].map({'Varhaiskasvatus (3 vuotta täyttäneet) ja esiopetus': 'Early education',\n",
    "                     'Perusopetus, vuosiluokat 1-6': 'Basic Education 1-6', \n",
    "                     'Perusopetus, vuosiluokat 7-9': 'Basic Education 7-9',\n",
    "                     'Lukiokoulutus': 'Gymnasium', \n",
    "                     'Ammatillinen peruskoulutus': 'Vocational Basic', \n",
    "                     'Ammattitutkinto': 'Vocational',\n",
    "                     'Opistoaste': 'Vocational (depreceated)', \n",
    "                     'Ammatillinen korkea-aste': 'Vocational higher',\n",
    "                     'Ammattikorkeakoulututkinto': 'Bachelors (Applied Sciences)', \n",
    "                     'Ylempi ammattikorkeakoulututkinto': 'Masters (Applied Sciences)', \n",
    "                     'Alempi korkeakoulututkinto': 'Bachelors (University)',\n",
    "                     'Ylempi korkeakoulututkinto': 'Masters (University)',\n",
    "                     'Lääkärien erikoistumiskoulutus': 'Medical Specialization', \n",
    "                     'Lisensiaatintutkinto': 'Licensiate',\n",
    "                     'Tohtorintutkinto': 'Doctorate (University)', \n",
    "                     'Koulutusaste tuntematon': 'Unknown'})\n",
    "fr['Level of education'].value_counts().sort_index()"
   ]
  },
  {
   "cell_type": "markdown",
   "metadata": {},
   "source": [
    "Field of education is a categorical variable:"
   ]
  },
  {
   "cell_type": "code",
   "execution_count": 21,
   "metadata": {},
   "outputs": [
    {
     "data": {
      "text/plain": [
       "General Education           360188\n",
       "Education                    15013\n",
       "Humanities and Arts          66067\n",
       "Social Studies               14422\n",
       "Economics and Law           102463\n",
       "Natural Sciences             14511\n",
       "Computer Science and IT      39426\n",
       "Engineering                 240234\n",
       "Agriculture and Forestry     22490\n",
       "Health and Welfare           73219\n",
       "Services                    104040\n",
       "Unknown                      50068\n",
       "Name: Field of education, dtype: int64"
      ]
     },
     "execution_count": 21,
     "metadata": {},
     "output_type": "execute_result"
    }
   ],
   "source": [
    "fr['Field of education'] = fr['Field of education'].map({'Yleissivistävä koulutus': 'General Education', \n",
    "                     'Kasvatusalat': 'Education',\n",
    "                     'Humanistiset ja taidealat': 'Humanities and Arts', \n",
    "                     'Yhteiskunnalliset alat': 'Social Studies',\n",
    "                     'Kauppa, hallinto ja oikeustieteet': 'Economics and Law', \n",
    "                     'Luonnontieteet': 'Natural Sciences',\n",
    "                     'Tietojenkäsittely ja tietoliikenne (ICT)': 'Computer Science and IT', \n",
    "                     'Tekniikan alat': 'Engineering',\n",
    "                     'Maa- ja metsätalousalat': 'Agriculture and Forestry', \n",
    "                     'Terveys- ja hyvinvointialat': 'Health and Welfare',\n",
    "                     'Palvelualat':'Services', \n",
    "                     'Muut tai tuntemattomat koulutusalat': 'Unknown'})\n",
    "fr['Field of education'].value_counts().sort_index()"
   ]
  },
  {
   "cell_type": "markdown",
   "metadata": {},
   "source": [
    "The categorical features are converted into a binary indicators (one-hot encoding):"
   ]
  },
  {
   "cell_type": "code",
   "execution_count": 22,
   "metadata": {},
   "outputs": [],
   "source": [
    "col_classes = ['henkilotunnus', 'vvvvkk', 'Gender', 'Work experience', 'Age', 'Level of education', 'Field of education']\n",
    "all_classes = OrderedDict([(col, np.sort(fr[col].unique())) for col in col_classes])\n",
    "col_onehots = ['%s=%s' % (feature, category) for feature in all_classes for category in all_classes[feature]]\n",
    "onehot = preprocessing.OneHotEncoder(categories=list(all_classes.values()))"
   ]
  },
  {
   "cell_type": "markdown",
   "metadata": {},
   "source": [
    "## Train models"
   ]
  },
  {
   "cell_type": "markdown",
   "metadata": {},
   "source": [
    "We use use a special AUC validation strategy where we take into account the fact that many observations can come from the same unemployed person. The AUC is time-stratified in the sense that we calculate the AUC by comparing observations at each time point, which means that different observations from the same person are not compared with each other:"
   ]
  },
  {
   "cell_type": "code",
   "execution_count": 23,
   "metadata": {},
   "outputs": [],
   "source": [
    "# https://www.ibm.com/developerworks/community/blogs/jfp/entry/Fast_Computation_of_AUC_ROC_score?lang=en\n",
    "def fast_auc( Y, P, split=False):\n",
    "    y_true = np.asarray(Y)\n",
    "    y_true = y_true[np.argsort(P)]\n",
    "    nfalse = 0\n",
    "    auc = 0\n",
    "    n = len(y_true)\n",
    "    for i in range(n):\n",
    "        y_i = y_true[i]\n",
    "        nfalse += (1 - y_i)\n",
    "        auc += y_i * nfalse\n",
    "    npairs = nfalse * (n - nfalse)\n",
    "    return auc / npairs if not split else (auc, npairs)\n",
    "\n",
    "# Compute time-stratified AUC\n",
    "def auc_stratified(Y, P, T, subset=None):\n",
    "    if not subset is None:\n",
    "        Y, P, T = Y[subset], P[subset], T[subset]\n",
    "    fr = pd.DataFrame({'Y': np.array(Y), 'P': np.array(P), 'T': np.array(T)})\n",
    "    nc, n = 0, 0\n",
    "    for T, s in fr.groupby('T'):\n",
    "        if len(s['Y'].unique()) > 1:\n",
    "            nc_, n_ = fast_auc(s['Y'], s['P'], split=True)\n",
    "            nc += nc_\n",
    "            n += n_\n",
    "    return nc/n\n",
    "\n",
    "\n",
    "def auc_t(Y, P, T, subset=None):\n",
    "    if not subset is None:\n",
    "        Y, P, T = Y[subset], P[subset], T[subset]\n",
    "    fr = pd.DataFrame({'Y': np.array(Y), 'P': np.array(P), 'T': np.array(T)})\n",
    "    auc = fr.groupby('T').apply(lambda s: metrics.roc_auc_score(s['Y'], s['P']) if len(s['Y'].unique()) > 1 else np.nan)\n",
    "    return auc\n"
   ]
  },
  {
   "cell_type": "markdown",
   "metadata": {},
   "source": [
    "### Unemployment exit"
   ]
  },
  {
   "cell_type": "markdown",
   "metadata": {},
   "source": [
    "The first model is used to predict 'unemployment exit'. There are two states: unemployed (0/1) and other (0/1), which are each other's complements. The model uses a subset of data where the previous unemployment state was unemployed (unemployed=1) and aims to predict whether the person exited unemployment or not (other=1/0) that month."
   ]
  },
  {
   "cell_type": "code",
   "execution_count": 24,
   "metadata": {},
   "outputs": [
    {
     "name": "stderr",
     "output_type": "stream",
     "text": [
      "C:\\Users\\mvil4\\Anaconda3\\lib\\site-packages\\sklearn\\linear_model\\_sag.py:330: ConvergenceWarning: The max_iter was reached which means the coef_ did not converge\n",
      "  \"the coef_ did not converge\", ConvergenceWarning)\n"
     ]
    }
   ],
   "source": [
    "train = (fr['dataset'] == 'Train') & (fr['unemployed_prev'] == 1)\n",
    "event = 'other'\n",
    "\n",
    "# Train\n",
    "X_train = onehot.fit_transform(fr[train][col_classes])\n",
    "Y_train = fr[train][event]\n",
    "clf_exit = LogisticRegression(random_state=0, solver='saga', max_iter=1000)\n",
    "clf_exit.fit(X_train, Y_train)\n",
    "\n",
    "# Test\n",
    "X_test = onehot.fit_transform(fr[col_classes])\n",
    "Y_test = fr[event]\n",
    "fr['exit'] = clf_exit.predict_proba(X_test)[:, 1]"
   ]
  },
  {
   "cell_type": "markdown",
   "metadata": {},
   "source": [
    "The AUC at each month indicates that the test set predictions are considerably more difficult, probably because the unemployment exists do not indicate large person specific differences in exiting unemployment that are not explained by the covariates. The cold start performance is modest, indicating that the features have some information but there is significant randomness in who finds a job and who doesn't:"
   ]
  },
  {
   "cell_type": "code",
   "execution_count": 25,
   "metadata": {},
   "outputs": [
    {
     "data": {
      "text/plain": [
       "<matplotlib.legend.Legend at 0x2b1db3aeba8>"
      ]
     },
     "execution_count": 25,
     "metadata": {},
     "output_type": "execute_result"
    },
    {
     "data": {
      "image/png": "[encoded data removed]",
      "text/plain": [
       "<Figure size 432x288 with 1 Axes>"
      ]
     },
     "metadata": {
      "needs_background": "light"
     },
     "output_type": "display_data"
    }
   ],
   "source": [
    "Y, T, P = fr['other'], fr['vvvvkk'], fr['exit']\n",
    "both_exit = auc_t(Y, P, T, subset=(fr['dataset'] != 'Cold') & (fr['unemployed_prev'] == 1))\n",
    "cold_exit = auc_t(Y, P, T, subset=(fr['dataset'] == 'Cold') & (fr['unemployed_prev'] == 1))\n",
    "both_exit.plot(drawstyle='steps-post', label='Train/Test AUC')\n",
    "cold_exit.plot(drawstyle='steps-post', label='Cold start AUC')\n",
    "plt.axvline(pd.Timestamp('2017-01-01'), color='grey', label='Test set limit')\n",
    "plt.legend()"
   ]
  },
  {
   "cell_type": "markdown",
   "metadata": {},
   "source": [
    "### Unemployment entry"
   ]
  },
  {
   "cell_type": "markdown",
   "metadata": {},
   "source": [
    "The first model is used to predict 'unemployment entry'. There are two states: unemployed (0/1) and other (0/1), which are each other's complements. The model uses a subset of data where the previous unemployment state was not unemployed (other=1) and aims to predict whether the person entered unemployment or not (unemployed=1/0) that month."
   ]
  },
  {
   "cell_type": "code",
   "execution_count": 26,
   "metadata": {},
   "outputs": [
    {
     "name": "stderr",
     "output_type": "stream",
     "text": [
      "C:\\Users\\mvil4\\Anaconda3\\lib\\site-packages\\sklearn\\linear_model\\_sag.py:330: ConvergenceWarning: The max_iter was reached which means the coef_ did not converge\n",
      "  \"the coef_ did not converge\", ConvergenceWarning)\n"
     ]
    }
   ],
   "source": [
    "train = (fr['dataset'] == 'Train') & (fr['other_prev'] == 1)\n",
    "event = 'unemployed'\n",
    "\n",
    "# Train\n",
    "X_train = onehot.fit_transform(fr[train][col_classes])\n",
    "Y_train = fr[train][event]\n",
    "clf_entry = LogisticRegression(random_state=0, solver='saga', max_iter=1000)\n",
    "clf_entry.fit(X_train, Y_train)\n",
    "\n",
    "# Test\n",
    "X_test = onehot.fit_transform(fr[col_classes])\n",
    "Y_test = fr[event]\n",
    "fr['entry'] = clf_entry.predict_proba(X_test)[:, 1]"
   ]
  },
  {
   "cell_type": "markdown",
   "metadata": {},
   "source": [
    "The AUC at each month indicates that the test set predictions are slightly more difficult, which indicates that there could be interesting differences between people in becoming unemployed again that cannot be explained by the features. The cold start performance is again modest, indicating that the features have some information but there is a lot of randomness in who becomes unemployed:"
   ]
  },
  {
   "cell_type": "code",
   "execution_count": 27,
   "metadata": {},
   "outputs": [
    {
     "data": {
      "text/plain": [
       "<matplotlib.legend.Legend at 0x2b1db3e3f98>"
      ]
     },
     "execution_count": 27,
     "metadata": {},
     "output_type": "execute_result"
    },
    {
     "data": {
      "image/png": "[encoded data removed]",
      "text/plain": [
       "<Figure size 432x288 with 1 Axes>"
      ]
     },
     "metadata": {
      "needs_background": "light"
     },
     "output_type": "display_data"
    }
   ],
   "source": [
    "Y, T, P = fr['unemployed'], fr['vvvvkk'], fr['entry']\n",
    "both_entry = auc_t(Y, P, T, subset=(fr['dataset'] != 'Cold') & (fr['other_prev'] == 1))\n",
    "cold_entry = auc_t(Y, P, T, subset=(fr['dataset'] == 'Cold') & (fr['other_prev'] == 1))\n",
    "both_entry.plot(drawstyle='steps-post', label='Train/Test AUC')\n",
    "cold_entry.plot(drawstyle='steps-post', label='Cold start AUC')\n",
    "plt.axvline(pd.Timestamp('2017-01-01'), color='grey', label='Test set limit')\n",
    "plt.legend()"
   ]
  },
  {
   "cell_type": "markdown",
   "metadata": {},
   "source": [
    "### Unemployment prevalence"
   ]
  },
  {
   "cell_type": "markdown",
   "metadata": {},
   "source": [
    "The third model is used to predict 'unemployment status' (or 'prevalence') directly. The model uses all of the data set and aims to predict whether the person was unemployed or not (unemployed=1/0) that month."
   ]
  },
  {
   "cell_type": "code",
   "execution_count": 28,
   "metadata": {},
   "outputs": [],
   "source": [
    "train = (fr['dataset'] == 'Train')\n",
    "event = 'unemployed'\n",
    "\n",
    "# Train\n",
    "X_train = onehot.fit_transform(fr[train][col_classes])\n",
    "Y_train = fr[train][event]\n",
    "clf_prevalence = LogisticRegression(random_state=0, solver='saga', max_iter=1000)\n",
    "clf_prevalence.fit(X_train, Y_train)\n",
    "\n",
    "# Test\n",
    "X_test = onehot.fit_transform(fr[col_classes])\n",
    "Y_test = fr[event]\n",
    "fr['prevalence'] = clf_prevalence.predict_proba(X_test)[:, 1]"
   ]
  },
  {
   "cell_type": "markdown",
   "metadata": {},
   "source": [
    "The AUC at each month indicates that the test set predictions are quite good, which indicates that there are person-specific differences beyond the features that predict whether someone is unemployed. The cold start performance is once more modest, indicating that the features have some information but there is a lot of randomness in who is unemployed:"
   ]
  },
  {
   "cell_type": "code",
   "execution_count": 29,
   "metadata": {},
   "outputs": [
    {
     "data": {
      "text/plain": [
       "<matplotlib.legend.Legend at 0x2b180dc2780>"
      ]
     },
     "execution_count": 29,
     "metadata": {},
     "output_type": "execute_result"
    },
    {
     "data": {
      "image/png": "[encoded data removed]",
      "text/plain": [
       "<Figure size 432x288 with 1 Axes>"
      ]
     },
     "metadata": {
      "needs_background": "light"
     },
     "output_type": "display_data"
    }
   ],
   "source": [
    "Y, T, P = fr['unemployed'], fr['vvvvkk'], fr['prevalence']\n",
    "both_prevalence = auc_t(Y, P, T, subset=(fr['dataset'] != 'Cold'))\n",
    "cold_prevalence = auc_t(Y, P, T, subset=(fr['dataset'] == 'Cold'))\n",
    "both_prevalence.plot(drawstyle='steps-post', label='Train/Test AUC')\n",
    "cold_prevalence.plot(drawstyle='steps-post', label='Cold start AUC')\n",
    "plt.axvline(pd.Timestamp('2017-01-01'), color='grey', label='Test set limit')\n",
    "plt.legend()"
   ]
  },
  {
   "cell_type": "markdown",
   "metadata": {},
   "source": [
    "Remember that the 'Exit' and 'Entry' models actually imply the unemployment status as a Markov Chain model? We can use the implied steady state probabilities from this model to predict the unemployment status:"
   ]
  },
  {
   "cell_type": "code",
   "execution_count": 30,
   "metadata": {},
   "outputs": [],
   "source": [
    "fr['steady'] = fr['entry'] / (fr['entry'] + fr['exit'])"
   ]
  },
  {
   "cell_type": "markdown",
   "metadata": {},
   "source": [
    "The AUC at each month is quite similar:"
   ]
  },
  {
   "cell_type": "code",
   "execution_count": 31,
   "metadata": {},
   "outputs": [
    {
     "data": {
      "text/plain": [
       "<matplotlib.legend.Legend at 0x2b1db33fb70>"
      ]
     },
     "execution_count": 31,
     "metadata": {},
     "output_type": "execute_result"
    },
    {
     "data": {
      "image/png": "[encoded data removed]",
      "text/plain": [
       "<Figure size 432x288 with 1 Axes>"
      ]
     },
     "metadata": {
      "needs_background": "light"
     },
     "output_type": "display_data"
    }
   ],
   "source": [
    "Y, T, P = fr['unemployed'], fr['vvvvkk'], fr['steady']\n",
    "both_steady = auc_t(Y, P, T, subset=(fr['dataset'] != 'Cold'))\n",
    "cold_steady = auc_t(Y, P, T, subset=(fr['dataset'] == 'Cold'))\n",
    "both_steady.plot(drawstyle='steps-post', label='Train/Test AUC')\n",
    "cold_steady.plot(drawstyle='steps-post', label='Cold start AUC')\n",
    "plt.axvline(pd.Timestamp('2017-01-01'), color='grey', label='Test set limit')\n",
    "plt.legend()"
   ]
  },
  {
   "cell_type": "markdown",
   "metadata": {},
   "source": [
    "### Summary"
   ]
  },
  {
   "cell_type": "markdown",
   "metadata": {},
   "source": [
    "Finally, we can average the time-stratified AUCs of different models to get the following summary table:"
   ]
  },
  {
   "cell_type": "code",
   "execution_count": 32,
   "metadata": {},
   "outputs": [
    {
     "name": "stdout",
     "output_type": "stream",
     "text": [
      "              Train  Test  Cold\n",
      "Exit           0.81  0.67  0.65\n",
      "Entry          0.75  0.69  0.55\n",
      "Prevalence     0.84  0.76  0.64\n",
      "Steady state   0.82  0.79  0.65\n"
     ]
    }
   ],
   "source": [
    "Y, T, P = fr['other'], fr['vvvvkk'], fr['exit']\n",
    "train_exit = auc_stratified(Y, P, T, subset=(fr['dataset'] == 'Train') & (fr['unemployed_prev'] == 1))\n",
    "test_exit = auc_stratified(Y, P, T, subset=(fr['dataset'] == 'Test') & (fr['unemployed_prev'] == 1))\n",
    "cold_exit = auc_stratified(Y, P, T, subset=(fr['dataset'] == 'Cold') & (fr['unemployed_prev'] == 1))\n",
    "\n",
    "Y, T, P = fr['unemployed'], fr['vvvvkk'], fr['entry']\n",
    "train_entry = auc_stratified(Y, P, T, subset=(fr['dataset'] == 'Train') & (fr['other_prev'] == 1))\n",
    "test_entry = auc_stratified(Y, P, T, subset=(fr['dataset'] == 'Test') & (fr['other_prev'] == 1))\n",
    "cold_entry = auc_stratified(Y, P, T, subset=(fr['dataset'] == 'Cold') & (fr['other_prev'] == 1))\n",
    "\n",
    "Y, T, P = fr['unemployed'], fr['vvvvkk'], fr['prevalence']\n",
    "train_status = auc_stratified(Y, P, T, subset=(fr['dataset'] == 'Train'))\n",
    "test_status = auc_stratified(Y, P, T, subset=(fr['dataset'] == 'Test'))\n",
    "cold_status = auc_stratified(Y, P, T, subset=(fr['dataset'] == 'Cold'))\n",
    "\n",
    "Y, T, P = fr['unemployed'], fr['vvvvkk'], fr['steady']\n",
    "train_steady = auc_stratified(Y, P, T, subset=(fr['dataset'] == 'Train'))\n",
    "test_steady = auc_stratified(Y, P, T, subset=(fr['dataset'] == 'Test'))\n",
    "cold_steady = auc_stratified(Y, P, T, subset=(fr['dataset'] == 'Cold'))\n",
    "\n",
    "auc = pd.DataFrame({'Train': [train_exit, train_entry, train_status, train_steady], \n",
    "                    'Test': [test_exit, test_entry, test_status, test_steady], \n",
    "                    'Cold': [cold_exit, cold_entry, cold_status, cold_steady]},\n",
    "                    index=['Exit', 'Entry', 'Prevalence', 'Steady state']).round(2)\n",
    "print(auc)"
   ]
  },
  {
   "cell_type": "markdown",
   "metadata": {},
   "source": [
    "### Markov Chain"
   ]
  },
  {
   "cell_type": "markdown",
   "metadata": {},
   "source": [
    "The 'Markov Chain' assumption can be used to predict x steps forward, given that we know the previous unemployment status:"
   ]
  },
  {
   "cell_type": "code",
   "execution_count": 33,
   "metadata": {},
   "outputs": [],
   "source": [
    "vvvvkk = pd.to_datetime(pd.period_range('2013-01-01', '2017-12-01', freq='M').to_timestamp())\n",
    "fr = fr.groupby('henkilotunnus').apply(lambda fr: fr.set_index('vvvvkk').reindex(vvvvkk))\n",
    "fr = fr.drop('henkilotunnus', axis=1)\n",
    "fr = fr.reset_index()\n",
    "fr.rename(columns={'level_1': 'vvvvkk'}, inplace=True)\n",
    "\n",
    "fr['unemployed_prev1'] = fr.groupby('henkilotunnus')['unemployed'].apply(lambda s: s.shift(1))\n",
    "fr['entry_prev1'] = fr.groupby('henkilotunnus')['entry'].apply(lambda s: s.shift(1))\n",
    "fr['exit_prev1'] = fr.groupby('henkilotunnus')['exit'].apply(lambda s: s.shift(1))\n",
    "fr['unemployed_prev3'] = fr.groupby('henkilotunnus')['unemployed'].apply(lambda s: s.shift(3))\n",
    "fr['entry_prev3'] = fr.groupby('henkilotunnus')['entry'].apply(lambda s: s.shift(3))\n",
    "fr['exit_prev3'] = fr.groupby('henkilotunnus')['exit'].apply(lambda s: s.shift(3))\n",
    "fr['unemployed_prev12'] = fr.groupby('henkilotunnus')['unemployed'].apply(lambda s: s.shift(12))\n",
    "fr['entry_prev12'] = fr.groupby('henkilotunnus')['entry'].apply(lambda s: s.shift(12))\n",
    "fr['exit_prev12'] = fr.groupby('henkilotunnus')['exit'].apply(lambda s: s.shift(12))"
   ]
  },
  {
   "cell_type": "code",
   "execution_count": 34,
   "metadata": {},
   "outputs": [],
   "source": [
    "from numpy.linalg import matrix_power\n",
    "\n",
    "# Computes the predicted state based on previous state 'shift' time points ago\n",
    "def markov_state(fr, shift):\n",
    "    cols = ['unemployed_prev%d' % shift, 'exit_prev%d' % shift, 'entry_prev%d' % shift]\n",
    "    \n",
    "    Y_ = []\n",
    "    for idx, (S1, P10, P01) in fr[cols].iterrows():\n",
    "        #print(S1, P10, P01, np.isnan(S1))\n",
    "        S = np.array([[1.0-P01, P01], [P10, 1.0-P10]])\n",
    "        if not np.isnan(S1):\n",
    "            S1 = int(S1)\n",
    "            Y = matrix_power(S, shift)[S1,1]\n",
    "        else:\n",
    "            Y = np.nan\n",
    "        Y_.append(Y)\n",
    "    P = pd.DataFrame({('unemployed_%d' % shift) : Y_}, index=fr['vvvvkk'])\n",
    "    return(P)\n",
    "\n",
    "pred1 = fr.groupby('henkilotunnus').apply(lambda fr: markov_state(fr, 1))\n",
    "pred1 = pred1.reset_index()\n",
    "\n",
    "pred3 = fr.groupby('henkilotunnus').apply(lambda fr: markov_state(fr, 3))\n",
    "pred3 = pred3.reset_index()\n",
    "\n",
    "pred12 = fr.groupby('henkilotunnus').apply(lambda fr: markov_state(fr, 12))\n",
    "pred12 = pred12.reset_index()\n",
    "\n",
    "fr = fr.merge(pred1, how='left')\n",
    "fr = fr.merge(pred3, how='left')\n",
    "fr = fr.merge(pred12, how='left')"
   ]
  },
  {
   "cell_type": "markdown",
   "metadata": {},
   "source": [
    "This assumption helps to increase the predictive accuracy by a large margin, assuming that we know the unemployment status some months ago. If we know the previous unemployment status, it is very easy to predict the current month as most people remain unemployed. Even 3 months on the predictions are very good, but over time we lose the utility of knowing the previous unemployment status. At 12 months they are similar to the steady state predictions:"
   ]
  },
  {
   "cell_type": "code",
   "execution_count": 35,
   "metadata": {},
   "outputs": [
    {
     "data": {
      "text/plain": [
       "<matplotlib.legend.Legend at 0x2b1db2716a0>"
      ]
     },
     "execution_count": 35,
     "metadata": {},
     "output_type": "execute_result"
    },
    {
     "data": {
      "image/png": "[encoded data removed]",
      "text/plain": [
       "<Figure size 432x288 with 1 Axes>"
      ]
     },
     "metadata": {
      "needs_background": "light"
     },
     "output_type": "display_data"
    }
   ],
   "source": [
    "Y = fr['unemployed']\n",
    "T = fr['vvvvkk']\n",
    "\n",
    "# Train Markov (1)\n",
    "P = fr['unemployed_1']\n",
    "auc_df = auc_t(Y, P, T, subset=((fr['dataset'] == 'Train') | (fr['dataset'] == 'Test')) & ~P.isnull())\n",
    "auc_df.plot(drawstyle='steps-post', label='Train & Test (1 month pred.)', color='#1f77b4')\n",
    "\n",
    "# Train Markov (3)\n",
    "P = fr['unemployed_3']\n",
    "auc_df = auc_t(Y, P, T, subset=((fr['dataset'] == 'Train') | (fr['dataset'] == 'Test')) & ~P.isnull())\n",
    "auc_df.plot(drawstyle='steps-post', label='Train & Test (3 month pred.)', color='#9467bd')\n",
    "\n",
    "# Train Markov (12)\n",
    "P = fr['unemployed_12']\n",
    "auc_df = auc_t(Y, P, T, subset=((fr['dataset'] == 'Train') | (fr['dataset'] == 'Test')) & ~P.isnull())\n",
    "auc_df.plot(drawstyle='steps-post', label='Train & Test (12 month pred.)', color='#d62728')\n",
    "\n",
    "# Train Steady State\n",
    "P = fr['entry'] / (fr['entry'] + fr['exit'])\n",
    "auc_df = auc_t(Y, P, T, subset=(fr['dataset'] == 'Train') | (fr['dataset'] == 'Test'))\n",
    "auc_df.plot(drawstyle='steps-post', label='Train & Test (steady state)', color='black')\n",
    "\n",
    "# Cold Start Steady State\n",
    "P = fr['entry'] / (fr['entry'] + fr['exit'])\n",
    "auc_df = auc_t(Y, P, T, subset=(fr['dataset'] == 'Cold'))\n",
    "auc_df.plot(drawstyle='steps-post', label='Cold Start (steady state)', color='grey')\n",
    "\n",
    "plt.legend()"
   ]
  },
  {
   "cell_type": "markdown",
   "metadata": {},
   "source": [
    "## Interpreting the effects of features"
   ]
  },
  {
   "cell_type": "markdown",
   "metadata": {},
   "source": [
    "The cofficients in a linear model (logistic regression) can be interpreted to understand how different features influence the predictions. Lets "
   ]
  },
  {
   "cell_type": "code",
   "execution_count": 36,
   "metadata": {},
   "outputs": [],
   "source": [
    "vi, v = clf_exit.intercept_, clf_exit.coef_.flatten()\n",
    "#v = v + vi\n",
    "ui, u = clf_entry.intercept_, clf_entry.coef_.flatten()\n",
    "#u = u + ui\n",
    "p = u - v"
   ]
  },
  {
   "cell_type": "markdown",
   "metadata": {},
   "source": [
    "We now construct the following table of how the features affect each of the three models and visualize the impact of each feature:"
   ]
  },
  {
   "cell_type": "code",
   "execution_count": 37,
   "metadata": {},
   "outputs": [
    {
     "data": {
      "text/html": [
       "<div>\n",
       "<style scoped>\n",
       "    .dataframe tbody tr th:only-of-type {\n",
       "        vertical-align: middle;\n",
       "    }\n",
       "\n",
       "    .dataframe tbody tr th {\n",
       "        vertical-align: top;\n",
       "    }\n",
       "\n",
       "    .dataframe thead th {\n",
       "        text-align: right;\n",
       "    }\n",
       "</style>\n",
       "<table border=\"1\" class=\"dataframe\">\n",
       "  <thead>\n",
       "    <tr style=\"text-align: right;\">\n",
       "      <th></th>\n",
       "      <th>Entry</th>\n",
       "      <th>Exit</th>\n",
       "      <th>Prevalence</th>\n",
       "      <th>Term</th>\n",
       "      <th>Value</th>\n",
       "    </tr>\n",
       "  </thead>\n",
       "  <tbody>\n",
       "    <tr>\n",
       "      <th>1</th>\n",
       "      <td>0.000000</td>\n",
       "      <td>0.000000</td>\n",
       "      <td>0.000000</td>\n",
       "      <td>henkilotunnus</td>\n",
       "      <td>83</td>\n",
       "    </tr>\n",
       "    <tr>\n",
       "      <th>2</th>\n",
       "      <td>0.000000</td>\n",
       "      <td>-0.686634</td>\n",
       "      <td>0.686634</td>\n",
       "      <td>henkilotunnus</td>\n",
       "      <td>85</td>\n",
       "    </tr>\n",
       "    <tr>\n",
       "      <th>3</th>\n",
       "      <td>0.000000</td>\n",
       "      <td>0.000000</td>\n",
       "      <td>0.000000</td>\n",
       "      <td>henkilotunnus</td>\n",
       "      <td>87</td>\n",
       "    </tr>\n",
       "    <tr>\n",
       "      <th>4</th>\n",
       "      <td>0.000000</td>\n",
       "      <td>0.000000</td>\n",
       "      <td>0.000000</td>\n",
       "      <td>henkilotunnus</td>\n",
       "      <td>95</td>\n",
       "    </tr>\n",
       "    <tr>\n",
       "      <th>5</th>\n",
       "      <td>0.000000</td>\n",
       "      <td>0.000000</td>\n",
       "      <td>0.000000</td>\n",
       "      <td>henkilotunnus</td>\n",
       "      <td>97</td>\n",
       "    </tr>\n",
       "    <tr>\n",
       "      <th>...</th>\n",
       "      <td>...</td>\n",
       "      <td>...</td>\n",
       "      <td>...</td>\n",
       "      <td>...</td>\n",
       "      <td>...</td>\n",
       "    </tr>\n",
       "    <tr>\n",
       "      <th>20096</th>\n",
       "      <td>0.057895</td>\n",
       "      <td>-0.199196</td>\n",
       "      <td>0.257091</td>\n",
       "      <td>Field of education</td>\n",
       "      <td>Humanities and Arts</td>\n",
       "    </tr>\n",
       "    <tr>\n",
       "      <th>20097</th>\n",
       "      <td>-0.099546</td>\n",
       "      <td>-0.143801</td>\n",
       "      <td>0.044255</td>\n",
       "      <td>Field of education</td>\n",
       "      <td>Natural Sciences</td>\n",
       "    </tr>\n",
       "    <tr>\n",
       "      <th>20098</th>\n",
       "      <td>-0.016132</td>\n",
       "      <td>-0.075797</td>\n",
       "      <td>0.059666</td>\n",
       "      <td>Field of education</td>\n",
       "      <td>Services</td>\n",
       "    </tr>\n",
       "    <tr>\n",
       "      <th>20099</th>\n",
       "      <td>-0.232307</td>\n",
       "      <td>-0.048595</td>\n",
       "      <td>-0.183712</td>\n",
       "      <td>Field of education</td>\n",
       "      <td>Social Studies</td>\n",
       "    </tr>\n",
       "    <tr>\n",
       "      <th>20100</th>\n",
       "      <td>-0.104795</td>\n",
       "      <td>0.167449</td>\n",
       "      <td>-0.272244</td>\n",
       "      <td>Field of education</td>\n",
       "      <td>Unknown</td>\n",
       "    </tr>\n",
       "  </tbody>\n",
       "</table>\n",
       "<p>20100 rows × 5 columns</p>\n",
       "</div>"
      ],
      "text/plain": [
       "          Entry      Exit  Prevalence                Term                Value\n",
       "1      0.000000  0.000000    0.000000       henkilotunnus                   83\n",
       "2      0.000000 -0.686634    0.686634       henkilotunnus                   85\n",
       "3      0.000000  0.000000    0.000000       henkilotunnus                   87\n",
       "4      0.000000  0.000000    0.000000       henkilotunnus                   95\n",
       "5      0.000000  0.000000    0.000000       henkilotunnus                   97\n",
       "...         ...       ...         ...                 ...                  ...\n",
       "20096  0.057895 -0.199196    0.257091  Field of education  Humanities and Arts\n",
       "20097 -0.099546 -0.143801    0.044255  Field of education     Natural Sciences\n",
       "20098 -0.016132 -0.075797    0.059666  Field of education             Services\n",
       "20099 -0.232307 -0.048595   -0.183712  Field of education       Social Studies\n",
       "20100 -0.104795  0.167449   -0.272244  Field of education              Unknown\n",
       "\n",
       "[20100 rows x 5 columns]"
      ]
     },
     "execution_count": 37,
     "metadata": {},
     "output_type": "execute_result"
    }
   ],
   "source": [
    "coefs = pd.DataFrame({'Entry': u, 'Exit': v, 'Prevalence': p}, index = col_onehots)\n",
    "coefs['Term'] = [s.split('=')[0] for s in coefs.index]\n",
    "coefs['Value'] = [s.split('=')[1] for s in coefs.index]\n",
    "coefs.index = np.arange(len(coefs)) + 1\n",
    "coefs"
   ]
  },
  {
   "cell_type": "markdown",
   "metadata": {},
   "source": [
    "The coefficients suggest the following:\n",
    "1. Males have a slightly lower exit rate but same entry rate, resulting in a little bit more unemployment.\n",
    "2. Work experience helps with more experience associated to both higher exit rate and lower entry rate resulting in less unemployment.\n",
    "3. Increasing age related to significantly higher odds of unemployment, because it becomes a lot harder to exit unemployment and slightly more likely to become unemployed.\n",
    "4. Having only basic education increases unemployment, and university education may sometimes be slightly better than vocational education.\n",
    "5. Field of education has an impact. At the time of study the most demand was in health and welfame, and the least in IT and natural sciences. It just happens that Nokia had big layoffs in the local area..."
   ]
  },
  {
   "cell_type": "code",
   "execution_count": 38,
   "metadata": {},
   "outputs": [
    {
     "data": {
      "image/png": "[encoded data removed]",
      "text/plain": [
       "<Figure size 432x288 with 1 Axes>"
      ]
     },
     "metadata": {
      "needs_background": "light"
     },
     "output_type": "display_data"
    },
    {
     "data": {
      "image/png": "[encoded data removed]",
      "text/plain": [
       "<Figure size 432x288 with 1 Axes>"
      ]
     },
     "metadata": {
      "needs_background": "light"
     },
     "output_type": "display_data"
    },
    {
     "data": {
      "image/png": "[encoded data removed]",
      "text/plain": [
       "<Figure size 432x288 with 1 Axes>"
      ]
     },
     "metadata": {
      "needs_background": "light"
     },
     "output_type": "display_data"
    },
    {
     "data": {
      "image/png": "[encoded data removed]",
      "text/plain": [
       "<Figure size 432x288 with 1 Axes>"
      ]
     },
     "metadata": {
      "needs_background": "light"
     },
     "output_type": "display_data"
    },
    {
     "data": {
      "image/png": "[encoded data removed]",
      "text/plain": [
       "<Figure size 432x288 with 1 Axes>"
      ]
     },
     "metadata": {
      "needs_background": "light"
     },
     "output_type": "display_data"
    },
    {
     "data": {
      "image/png": "[encoded data removed]",
      "text/plain": [
       "<Figure size 432x288 with 1 Axes>"
      ]
     },
     "metadata": {
      "needs_background": "light"
     },
     "output_type": "display_data"
    }
   ],
   "source": [
    "# Plot coefficients for all three models: rate, exit, entry\n",
    "for i, (coef, df) in enumerate(coefs.groupby('Term', sort=False)):\n",
    "    if coef != 'henkilotunnus':\n",
    "        x = pd.to_datetime(df['Value']).dt.strftime('%Y-%m-%d') if coef == 'vvvvkk' else df['Value']\n",
    "        idx = np.arange(len(x))\n",
    "        fig, ax = plt.subplots(1, 1)\n",
    "        # Covariate value x model table of effects (+-SE)\n",
    "        ax.scatter(idx, df['Prevalence'], facecolors='none', edgecolors='black', marker='o', label='Prevalence')\n",
    "        ax.scatter(idx-0.1, df['Exit'], facecolors='none', edgecolors='darkred', marker='o', label='Exit')\n",
    "        ax.scatter(idx+0.1, df['Entry'], facecolors='none', edgecolors='darkgreen', marker='o', label='Entry')\n",
    "        ax.set_xticks(idx)\n",
    "        ax.set_xticklabels(x, rotation=90, fontsize=8)\n",
    "        ax.set_xlim([min(idx)-0.5, max(idx)+0.5])\n",
    "        ax.grid(which='major', axis='y', linestyle='-', linewidth=0.5, alpha=0.5)\n",
    "        ax.grid(which='minor', axis='y', linestyle='--', linewidth=0.5, alpha=0.5)\n",
    "        ax.grid(which='major', axis='x', linestyle='-', linewidth=0.5)\n",
    "        ax.set_title(coef)\n"
   ]
  },
  {
   "cell_type": "markdown",
   "metadata": {},
   "source": [
    "When the model has observed unemployment history of a person (Train set), we can also learn the person specific effect to the unemployment entry or exit probability that is not explained by the features:"
   ]
  },
  {
   "cell_type": "code",
   "execution_count": 39,
   "metadata": {},
   "outputs": [],
   "source": [
    "cold_ids = fr.loc[fr['dataset'] == 'Cold', 'henkilotunnus'].unique()\n",
    "intercepts = coefs[(coefs['Term'] == 'henkilotunnus')]\n",
    "intercepts = intercepts[~intercepts['Value'].astype(int).isin(cold_ids)]"
   ]
  },
  {
   "cell_type": "markdown",
   "metadata": {},
   "source": [
    "We see that people differ in their own entry and exit rates, and there might be some correlation between higher risk of entry and lower risk of exit:"
   ]
  },
  {
   "cell_type": "code",
   "execution_count": 40,
   "metadata": {},
   "outputs": [
    {
     "data": {
      "text/plain": [
       "Text(0, 0.5, 'Exit')"
      ]
     },
     "execution_count": 40,
     "metadata": {},
     "output_type": "execute_result"
    },
    {
     "data": {
      "image/png": "[encoded data removed]",
      "text/plain": [
       "<Figure size 432x288 with 1 Axes>"
      ]
     },
     "metadata": {
      "needs_background": "light"
     },
     "output_type": "display_data"
    }
   ],
   "source": [
    "plt.scatter(intercepts['Entry'], intercepts['Exit'], marker='.', s=1)\n",
    "plt.xlabel('Entry')\n",
    "plt.ylabel('Exit')"
   ]
  },
  {
   "cell_type": "markdown",
   "metadata": {},
   "source": [
    "The implied unemployment prevalence also varies quite a lot by the person, even after accounting for their generic features. Maybe there are differences in motivation, demand for specific jobs, life challenges, etc. that we could include to improve the cold start model?"
   ]
  },
  {
   "cell_type": "code",
   "execution_count": 41,
   "metadata": {},
   "outputs": [
    {
     "data": {
      "image/png": "[encoded data removed]",
      "text/plain": [
       "<Figure size 432x288 with 1 Axes>"
      ]
     },
     "metadata": {
      "needs_background": "light"
     },
     "output_type": "display_data"
    }
   ],
   "source": [
    "_= plt.hist(intercepts['Prevalence'], bins=50)"
   ]
  },
  {
   "cell_type": "markdown",
   "metadata": {},
   "source": [
    "## Widget"
   ]
  },
  {
   "cell_type": "markdown",
   "metadata": {},
   "source": [
    "We now make a simple widget that can be used to get predictions for an individual in real time. These features specify the individual:"
   ]
  },
  {
   "cell_type": "code",
   "execution_count": 42,
   "metadata": {},
   "outputs": [],
   "source": [
    "from ipywidgets import interact\n",
    "\n",
    "choose = ['Gender', 'Work experience', 'Age', 'Level of education', 'Field of education']\n",
    "choices = {coef: list(values.unique()) for coef, values in coefs.groupby('Term')['Value'] if coef in choose}\n",
    "#choices"
   ]
  },
  {
   "cell_type": "markdown",
   "metadata": {},
   "source": [
    "We pick a random month and compare the predictions for the given individual relative to all others observed that month:"
   ]
  },
  {
   "cell_type": "code",
   "execution_count": 43,
   "metadata": {},
   "outputs": [
    {
     "data": {
      "text/plain": [
       "array([[0.03103103, 0.16366366, 0.96846847],\n",
       "       [0.05255255, 0.05805806, 0.92092092],\n",
       "       [0.03103103, 0.16366366, 0.96846847],\n",
       "       ...,\n",
       "       [0.48748749, 0.61161161, 0.22671125],\n",
       "       [0.77050114, 0.03203203, 0.1070993 ],\n",
       "       [0.9862916 , 0.14314314, 0.0914993 ]])"
      ]
     },
     "execution_count": 43,
     "metadata": {},
     "output_type": "execute_result"
    }
   ],
   "source": [
    "from sklearn.preprocessing import QuantileTransformer\n",
    "ref = fr.loc[(fr['vvvvkk'] == '2016-12-01') & (fr['dataset'] == 'Cold'), ['exit', 'entry', 'prevalence']].dropna()\n",
    "qt = QuantileTransformer(random_state=0)\n",
    "qt.fit_transform(ref)"
   ]
  },
  {
   "cell_type": "markdown",
   "metadata": {},
   "source": [
    "The widget asks for the 5 different features and gives a prediction of how you compare to other people. Top % means you belong to the given quantile in terms of unemployment risk, where Top 0% is the lowest risk and Top 100% is the highest risk."
   ]
  },
  {
   "cell_type": "code",
   "execution_count": 44,
   "metadata": {},
   "outputs": [],
   "source": [
    "def pick(**args):\n",
    "    spec = pd.DataFrame(args, index=[0])\n",
    "    spec['henkilotunnus'] = cold_ids[0]\n",
    "    spec['vvvvkk'] = pd.Timestamp('2016-12-01')\n",
    "\n",
    "    x_test = onehot.fit_transform(spec[col_classes])\n",
    "    y_exit = clf_exit.predict_proba(x_test)[:, 1][0]\n",
    "    y_entry = clf_entry.predict_proba(x_test)[:, 1][0]\n",
    "    y_prevalence = clf_prevalence.predict_proba(x_test)[:, 1][0]\n",
    "    y = np.array([[y_exit, y_entry, y_prevalence]])\n",
    "    y = qt.transform(y)\n",
    "    y_exit, y_entry, y_prevalence = 1.0-y[0,0], y[0,1], y[0,2]\n",
    "    #print(y_exit, y_entry, y_prevalence)\n",
    "    plt.figure(figsize=(6,1))\n",
    "    plt.title('Your risk of unemployment events is:')\n",
    "    plt.text(1,1.5, 'Exit', horizontalalignment='center', fontsize='large')\n",
    "    plt.text(2,1.5, 'Entry', horizontalalignment='center', fontsize='large')\n",
    "    plt.text(3,1.5, 'Prevalence', horizontalalignment='center', fontsize='large')\n",
    "    plt.text(1,1,'Top %.1f%%' % (y_exit*100), horizontalalignment='center', fontsize='x-large')\n",
    "    plt.text(2,1,'Top %.1f%%' % (y_entry*100), horizontalalignment='center', fontsize='x-large')\n",
    "    plt.text(3,1,'Top %.1f%%' % (y_prevalence*100), horizontalalignment='center', fontsize='x-large')\n",
    "    plt.xlim(0,4)\n",
    "    plt.ylim(0.5,2)\n",
    "    plt.axis('off')\n",
    "\n",
    "\n"
   ]
  },
  {
   "cell_type": "code",
   "execution_count": 45,
   "metadata": {},
   "outputs": [
    {
     "data": {
      "application/vnd.jupyter.widget-view+json": {
       "model_id": "0056b89e2222460297736f27ea9ef56e",
       "version_major": 2,
       "version_minor": 0
      },
      "text/plain": [
       "interactive(children=(Dropdown(description='Age', options=('[18, 20)', '[20, 25)', '[25, 30)', '[30, 35)', '[3…"
      ]
     },
     "metadata": {},
     "output_type": "display_data"
    }
   ],
   "source": [
    "_ = interact(pick, **choices)"
   ]
  },
  {
   "cell_type": "markdown",
   "metadata": {},
   "source": [
    "It looks like a 30-35 year old male computer scientist with a PhD and some work experience is significantly slower in finding a job (Top 77%) but quite unlikely to become unemployed relative to others (Top 9%), which implies that they are about the median person in terms of total amount of unemployment over their lifetime (Top 52%). That is quite comforting, and suggests that I should not worry too much..."
   ]
  },
  {
   "cell_type": "code",
   "execution_count": null,
   "metadata": {},
   "outputs": [],
   "source": []
  },
  {
   "cell_type": "code",
   "execution_count": null,
   "metadata": {},
   "outputs": [],
   "source": []
  },
  {
   "cell_type": "code",
   "execution_count": null,
   "metadata": {},
   "outputs": [],
   "source": []
  },
  {
   "cell_type": "code",
   "execution_count": null,
   "metadata": {},
   "outputs": [],
   "source": []
  }
 ],
 "metadata": {
  "kernelspec": {
   "display_name": "Python 2",
   "language": "python",
   "name": "python2"
  },
  "language_info": {
   "codemirror_mode": {
    "name": "ipython",
    "version": 2
   },
   "file_extension": ".py",
   "mimetype": "text/x-python",
   "name": "python",
   "nbconvert_exporter": "python",
   "pygments_lexer": "ipython2",
   "version": "2.7.16"
  }
 },
 "nbformat": 4,
 "nbformat_minor": 2
}
